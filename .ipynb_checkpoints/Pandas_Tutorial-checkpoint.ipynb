{
 "cells": [
  {
   "cell_type": "code",
   "execution_count": 4,
   "id": "8d73a7ca",
   "metadata": {},
   "outputs": [],
   "source": [
    "import pandas as pd"
   ]
  },
  {
   "cell_type": "code",
   "execution_count": 5,
   "id": "02348bed",
   "metadata": {},
   "outputs": [
    {
     "data": {
      "text/plain": [
       "'1.2.4'"
      ]
     },
     "execution_count": 5,
     "metadata": {},
     "output_type": "execute_result"
    }
   ],
   "source": [
    "pd.__version__"
   ]
  },
  {
   "cell_type": "code",
   "execution_count": 6,
   "id": "10eb2f3a",
   "metadata": {},
   "outputs": [],
   "source": [
    "data = [2,4,5]"
   ]
  },
  {
   "cell_type": "code",
   "execution_count": 9,
   "id": "58a5d342",
   "metadata": {},
   "outputs": [],
   "source": [
    "datap = pd.Series(data, index = ['x','y','z'])"
   ]
  },
  {
   "cell_type": "code",
   "execution_count": 14,
   "id": "76f39243",
   "metadata": {},
   "outputs": [
    {
     "name": "stdout",
     "output_type": "stream",
     "text": [
      "2\n"
     ]
    }
   ],
   "source": [
    "print(datap['x'])"
   ]
  },
  {
   "cell_type": "code",
   "execution_count": null,
   "id": "a30cc944",
   "metadata": {},
   "outputs": [],
   "source": [
    "dict1 = {\n",
    "    'students': ['john','peter','simon'],\n",
    "    'subject': ['english', 'maths', 'biology'],\n",
    "    'test_score': [25, 35, 45]\n",
    "}\n",
    "\n",
    "dict1s = pd.Series(dict1)"
   ]
  }
 ],
 "metadata": {
  "kernelspec": {
   "display_name": "Python 3",
   "language": "python",
   "name": "python3"
  },
  "language_info": {
   "codemirror_mode": {
    "name": "ipython",
    "version": 3
   },
   "file_extension": ".py",
   "mimetype": "text/x-python",
   "name": "python",
   "nbconvert_exporter": "python",
   "pygments_lexer": "ipython3",
   "version": "3.8.8"
  }
 },
 "nbformat": 4,
 "nbformat_minor": 5
}
